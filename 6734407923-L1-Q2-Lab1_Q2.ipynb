{
 "cells": [
  {
   "cell_type": "markdown",
   "metadata": {
    "deletable": false,
    "editable": false,
    "nbgrader": {
     "cell_type": "markdown",
     "checksum": "10e48e6128270246e9c518db180e8293",
     "grade": false,
     "grade_id": "cell-398406881230365d",
     "locked": true,
     "schema_version": 3,
     "solution": false,
     "task": false
    }
   },
   "source": [
    "---\n",
    "## Q2\n",
    "จงเขียนโปรแกรมที่รับชื่อและนามสกุลจากผู้ใช้ แล้วนำมาสร้างเป็นสตริงใหม่ 2 สตริง โดย\n",
    "\n",
    "- สตริงหนึ่งเป็นชื่อต่อด้วยนามสกุลและมีช่องว่าง (blank) คั่นกลาง\n",
    "\n",
    "- อีกสตริงหนึ่งเป็นนามสกุลต่อด้วยชื่อและมี , ต่อด้วยช่องว่างคั่นกลาง\n",
    "\n",
    "แล้วแสดงผลลัพธ์ดังตัวอย่างข้างล่างนี้"
   ]
  },
  {
   "cell_type": "markdown",
   "metadata": {
    "deletable": false,
    "editable": false,
    "nbgrader": {
     "cell_type": "markdown",
     "checksum": "5dcff80624490d9b12a937c45e88802e",
     "grade": false,
     "grade_id": "cell-f3a439bffd08ac59",
     "locked": true,
     "schema_version": 3,
     "solution": false,
     "task": false
    }
   },
   "source": [
    "### ตัวอย่างการทำงาน: \n",
    "\n",
    "Firstname Lastname: Somsak Saksri <br>\n",
    "Hello! Somsak Saksri<br>\n",
    "Saksri, Somsak "
   ]
  },
  {
   "cell_type": "markdown",
   "metadata": {
    "deletable": false,
    "editable": false,
    "nbgrader": {
     "cell_type": "markdown",
     "checksum": "296140f45e78f01f032144d0873b3ed2",
     "grade": false,
     "grade_id": "cell-a363ae6b283726a7",
     "locked": true,
     "schema_version": 3,
     "solution": false,
     "task": false
    }
   },
   "source": [
    "### ตัวอย่างการทำงาน: \n",
    "\n",
    "Firstname Lastname: Jackson Wang <br>\n",
    "Hello! Jackson Wang <br>\n",
    "Wang, Jackson <br>"
   ]
  },
  {
   "cell_type": "code",
   "execution_count": 1,
   "metadata": {
    "deletable": false,
    "nbgrader": {
     "cell_type": "code",
     "checksum": "b200d6e6b1dcb53db9c7782614ea5d49",
     "grade": false,
     "grade_id": "name",
     "locked": false,
     "schema_version": 3,
     "solution": true
    }
   },
   "outputs": [],
   "source": [
    "def run():\n",
    "    name = input().split()\n",
    "    print(f'Hello! {name[0]} {name[1]}')\n",
    "    print(f'{name[1]}, {name[0]}')\n",
    "    # YOUR CODE HERE"
   ]
  },
  {
   "cell_type": "code",
   "execution_count": 2,
   "metadata": {
    "deletable": false,
    "editable": false,
    "nbgrader": {
     "cell_type": "code",
     "checksum": "eb07e4767c226d16cef7b306c89d0752",
     "grade": false,
     "grade_id": "cell-2cee644d5334cd2e",
     "locked": true,
     "schema_version": 3,
     "solution": false,
     "task": false
    }
   },
   "outputs": [
    {
     "name": "stdout",
     "output_type": "stream",
     "text": [
      "Somsak Saksri\n",
      "Hello! Somsak Saksri\n",
      "Saksri, Somsak\n"
     ]
    }
   ],
   "source": [
    "'''ตรวจสอบผลลัพธ์ของโปรแกรมด้วยการรันที่ cell นี้'''\n",
    "run()"
   ]
  },
  {
   "cell_type": "code",
   "execution_count": null,
   "metadata": {
    "deletable": false,
    "editable": false,
    "nbgrader": {
     "cell_type": "code",
     "checksum": "b3196a58c149c8f0fa47bc9361b1a9f4",
     "grade": false,
     "grade_id": "correct_name",
     "locked": true,
     "schema_version": 3,
     "solution": false,
     "task": false
    }
   },
   "outputs": [],
   "source": [
    "'''ตรวจสอบคำสั่ง print และผลลัพธ์'''\n",
    "from unittest.mock import patch\n",
    "from io import StringIO\n",
    "\n",
    "def test(inputs,expected_output): \n",
    "    with patch('builtins.input', side_effect=inputs), patch('sys.stdout', new_callable=StringIO) as mock_stdout:\n",
    "        run()\n",
    "        assert mock_stdout.getvalue() == expected_output,mock_stdout.getvalue()\n",
    "def test_easy_print(inputs,expected_output):\n",
    "    with patch('builtins.input', side_effect=inputs), patch('sys.stdout', new_callable=StringIO) as mock_stdout:\n",
    "        run()\n",
    "        assert expected_output in mock_stdout.getvalue(), mock_stdout.getvalue()"
   ]
  },
  {
   "cell_type": "code",
   "execution_count": null,
   "metadata": {
    "deletable": false,
    "editable": false,
    "nbgrader": {
     "cell_type": "code",
     "checksum": "61f12f715bc9e9bdd17ec7bead41eb24",
     "grade": true,
     "grade_id": "easy_print",
     "locked": true,
     "points": 1,
     "schema_version": 3,
     "solution": false,
     "task": false
    }
   },
   "outputs": [],
   "source": [
    "'''ตรวจสอบการแสดงผลลัพธ์อย่างง่าย'''\n",
    "test_easy_print(inputs=['Somsak Saksri'],expected_output='Hello')\n",
    "print('ok')"
   ]
  },
  {
   "cell_type": "code",
   "execution_count": null,
   "metadata": {
    "deletable": false,
    "editable": false,
    "nbgrader": {
     "cell_type": "code",
     "checksum": "1e8f7ddc8628592561d7bf1a6e91ae06",
     "grade": true,
     "grade_id": "test1",
     "locked": true,
     "points": 1,
     "schema_version": 3,
     "solution": false,
     "task": false
    }
   },
   "outputs": [],
   "source": [
    "test(['Somsak Saksri'],'Hello! Somsak Saksri\\nSaksri, Somsak\\n')\n",
    "test(['Jackson Wang'],'Hello! Jackson Wang\\nWang, Jackson\\n')\n",
    "print('ok')"
   ]
  },
  {
   "cell_type": "code",
   "execution_count": null,
   "metadata": {
    "deletable": false,
    "editable": false,
    "nbgrader": {
     "cell_type": "code",
     "checksum": "4eb7734e6d7ab9665fe726b05bfac4ee",
     "grade": true,
     "grade_id": "hidden_test",
     "locked": true,
     "points": 1,
     "schema_version": 3,
     "solution": false,
     "task": false
    }
   },
   "outputs": [],
   "source": [
    "'''เทสลับ'''"
   ]
  }
 ],
 "metadata": {
  "BondSan": "5e2537135bc0c4b4648398e7dfaec7ed701df80015a20e5a57d07a39159252a85e33a0e598f301f3924a065c4f28a1c22ed28825eb7a76470da4792fe754fb6b170a0c6c6613a65d6ed0f9f8b5121360a69192c312d3cbe0365d2e875e0709137871ba1ca03c558953159a61b4d62e52dcbb87b7dde39f7e768c04420baf8057545032c9d6c703c3e675eccd7c7f9258cd7231cd250b1939759186bab0830e3d3b807662cec3527839e3750e409d3ba337d036c5b3f50db0d498ba3fab65de7207f1b203b29665f63a9e14d0e1f5072aa5487ec1bc1421a0524e68312080a86321dd2881b3f756d438e5d452df3054e30b6f31e6044f526a65cb00443e88bd80",
  "kernelspec": {
   "display_name": "Python 3 (ipykernel)",
   "language": "python",
   "name": "python3"
  },
  "language_info": {
   "codemirror_mode": {
    "name": "ipython",
    "version": 3
   },
   "file_extension": ".py",
   "mimetype": "text/x-python",
   "name": "python",
   "nbconvert_exporter": "python",
   "pygments_lexer": "ipython3",
   "version": "3.11.4"
  }
 },
 "nbformat": 4,
 "nbformat_minor": 4
}
